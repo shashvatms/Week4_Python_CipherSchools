{
 "cells": [
  {
   "attachments": {},
   "cell_type": "markdown",
   "metadata": {},
   "source": [
    "String matching:  \n",
    "LIKE, REGEXP (skip)\n",
    "\n",
    "## LIKE:\n",
    "% - any no of characters  \n",
    "_ - match a single char  \n",
    "\n",
    "SELECT * FROM [Customers]  \n",
    "Where ContactName LIKE '%m%  \n",
    "\n",
    "SELECT FROM [Customers]   \n",
    "WHere City LIKE 'M___d'  \n",
    "\n",
    "Ques:  \n",
    "Select all the phone nos ending with 5 in supplier's table?  \n",
    "SELECT FROM [Suppliers]  \n",
    "where Phone like '%5'  \n",
    "\n",
    "## REGEXP: more flexiblity     \n",
    "SELECT * FROM [Customers]  \n",
    "Where ContactName REGEXP 'm'  \n",
    "- by default - any no. of characters before and after  \n",
    "^ - beginnig  \n",
    "$ - ending  \n",
    "| - or  \n",
    "[] - matches any in the brckets   \n",
    "\n",
    "SELECT * FROM Customers   \n",
    "Where city regexp '^M'    \n",
    "Where city regexp 'd$'  \n",
    "Where city regexp '^M' and city regexp 'd$'\n",
    "\n",
    "SELECT * FROM Customers  \n",
    "where city regexp \"a|b|c\"  \n",
    "where city regexp \"^M | d$\"  \n",
    "where city regexp \"^a|ch|d$\"  \n",
    "where city regexp \"^a|[ch]|d$\"  \n",
    "where city regexp \"[abc]i\"  \n",
    "where city regexp \"[a-z]\"  \n",
    "where city regexp \"[a-h]e\"  \n",
    "\n",
    "\n",
    "\n"
   ]
  },
  {
   "cell_type": "markdown",
   "metadata": {},
   "source": []
  },
  {
   "cell_type": "markdown",
   "metadata": {},
   "source": []
  }
 ],
 "metadata": {
  "language_info": {
   "name": "python"
  },
  "orig_nbformat": 4
 },
 "nbformat": 4,
 "nbformat_minor": 2
}
